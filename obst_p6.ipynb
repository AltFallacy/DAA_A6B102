{
  "nbformat": 4,
  "nbformat_minor": 0,
  "metadata": {
    "colab": {
      "provenance": []
    },
    "kernelspec": {
      "name": "python3",
      "display_name": "Python 3"
    },
    "language_info": {
      "name": "python"
    }
  },
  "cells": [
    {
      "cell_type": "code",
      "execution_count": 1,
      "metadata": {
        "id": "MFSIbXND_x3d"
      },
      "outputs": [],
      "source": [
        "\n",
        "p=[]\n",
        "min_val=float('inf')\n"
      ]
    },
    {
      "cell_type": "code",
      "source": [
        "c=[[0 for _ in range(10)]]\n",
        "for i in range(2):\n",
        "  c[0][i]=0\n",
        "print(c)"
      ],
      "metadata": {
        "colab": {
          "base_uri": "https://localhost:8080/"
        },
        "id": "QZ1vwpxMIfOr",
        "outputId": "7f5229ce-8a0f-4577-ff52-e96baa946545"
      },
      "execution_count": 9,
      "outputs": [
        {
          "output_type": "stream",
          "name": "stdout",
          "text": [
            "[[0, 0, 0, 0, 0, 0, 0, 0, 0, 0]]\n"
          ]
        }
      ]
    },
    {
      "cell_type": "code",
      "source": [
        "\n",
        "\n",
        "def OBST_s(p):\n",
        "    n = len(p)\n",
        "\n",
        "    c = [[0.0 for _ in range(n)] for _ in range(n)]\n",
        "    w = [[0.0 for _ in range(n)] for _ in range(n)]\n",
        "    r = [[0 for _ in range(n)] for _ in range(n)]\n",
        "\n",
        "    for i in range(n):\n",
        "        c[i][i] = p[i]\n",
        "        w[i][i] = p[i]\n",
        "        r[i][i] = i\n",
        "\n",
        "    for i in range(n):\n",
        "        for j in range(i + 1, n):\n",
        "            w[i][j] = w[i][j - 1] + p[j]\n",
        "\n",
        "    for length in range(2, n + 1):\n",
        "        for i in range(n - length + 1):\n",
        "            j = i + length - 1\n",
        "            min_val = float('inf')\n",
        "            best_k = -1\n",
        "\n",
        "            for k in range(i, j + 1):\n",
        "                cost_left = c[i][k - 1] if k > i else 0\n",
        "                cost_right = c[k + 1][j] if k < j else 0\n",
        "                current_cost = cost_left + cost_right + w[i][j]\n",
        "\n",
        "                if current_cost < min_val:\n",
        "                    min_val = current_cost\n",
        "                    best_k = k\n",
        "\n",
        "            c[i][j] = min_val\n",
        "            r[i][j] = best_k\n",
        "\n",
        "    return c[0][n-1], r\n"
      ],
      "metadata": {
        "id": "uA3aefScErG9"
      },
      "execution_count": 29,
      "outputs": []
    },
    {
      "cell_type": "code",
      "source": [
        "\n",
        "p=[0.1,0.2,0.4,0.3]\n",
        "c_min, r = OBST_s(p)\n",
        "\n",
        "print(c_min)\n",
        "\n",
        "print(\"\\nRoot table (r):\")\n",
        "for row in r:\n",
        "    print(row)"
      ],
      "metadata": {
        "colab": {
          "base_uri": "https://localhost:8080/"
        },
        "id": "O9w0Kkc7L8Ha",
        "outputId": "00806739-b28b-4647-8c05-5dde250b257b"
      },
      "execution_count": 30,
      "outputs": [
        {
          "output_type": "stream",
          "name": "stdout",
          "text": [
            "1.7\n",
            "\n",
            "Root table (r):\n",
            "[0, 1, 2, 2]\n",
            "[0, 1, 2, 2]\n",
            "[0, 0, 2, 2]\n",
            "[0, 0, 0, 3]\n"
          ]
        }
      ]
    },
    {
      "cell_type": "code",
      "source": [
        "def OBST_correct(p, q):\n",
        "    n = len(p)\n",
        "\n",
        "    e = [[0.0 for _ in range(n + 1)] for _ in range(n + 1)]\n",
        "    w = [[0.0 for _ in range(n + 1)] for _ in range(n + 1)]\n",
        "    root = [[0 for _ in range(n)] for _ in range(n)]\n",
        "\n",
        "    for i in range(n + 1):\n",
        "        e[i][i] = q[i]\n",
        "        w[i][i] = q[i]\n",
        "\n",
        "    for d in range(1, n + 1):\n",
        "        for i in range(n - d + 1):\n",
        "            j = i + d - 1\n",
        "\n",
        "            e[i][j+1] = float('inf')\n",
        "            w[i][j+1] = w[i][j] + p[j] + q[j+1]\n",
        "\n",
        "            for r in range(i, j + 1):\n",
        "                cost = e[i][r] + e[r+1][j+1] + w[i][j+1]\n",
        "\n",
        "                if cost < e[i][j+1]:\n",
        "                    e[i][j+1] = cost\n",
        "                    root[i][j] = r\n",
        "\n",
        "    return e, w, root\n",
        "\n",
        "\n",
        "p = [0.1, 0.2, 0.4, 0.3]\n",
        "q = [0.05, 0.1, 0.05, 0.05, 0.1]\n",
        "\n",
        "\n",
        "e, w, r = OBST_correct(p, q)\n",
        "\n",
        "\n",
        "def print_matrix(matrix, title):\n",
        "    print(f\"\\n{title}\")\n",
        "    for row in matrix:\n",
        "        print(\"  \", [\"{:.2f}\".format(val) for val in row])\n",
        "\n",
        "print_matrix(e, \" Cost Matrix (e)\")\n",
        "\n",
        "print_matrix(w, \"  Weight Matrix (w)\")\n",
        "\n",
        "print(\"\\n Root Matrix (r)\")\n",
        "for row in r:\n",
        "    print(\"  \", row)\n",
        "\n",
        "print(f\"\\n Minimum expected cost of the Optimal BST: {e[0][len(p)]:.2f}\")\n",
        "\n"
      ],
      "metadata": {
        "colab": {
          "base_uri": "https://localhost:8080/"
        },
        "id": "cuE8BtolPTIb",
        "outputId": "6a048244-a5b2-47fd-9e2d-6245f7a724f7"
      },
      "execution_count": 34,
      "outputs": [
        {
          "output_type": "stream",
          "name": "stdout",
          "text": [
            "\n",
            " Cost Matrix (e)\n",
            "   ['0.05', '0.40', '0.95', '1.95', '2.90']\n",
            "   ['0.00', '0.10', '0.50', '1.35', '2.30']\n",
            "   ['0.00', '0.00', '0.05', '0.60', '1.55']\n",
            "   ['0.00', '0.00', '0.00', '0.05', '0.60']\n",
            "   ['0.00', '0.00', '0.00', '0.00', '0.10']\n",
            "\n",
            "  Weight Matrix (w)\n",
            "   ['0.05', '0.25', '0.50', '0.95', '1.35']\n",
            "   ['0.00', '0.10', '0.35', '0.80', '1.20']\n",
            "   ['0.00', '0.00', '0.05', '0.50', '0.90']\n",
            "   ['0.00', '0.00', '0.00', '0.05', '0.45']\n",
            "   ['0.00', '0.00', '0.00', '0.00', '0.10']\n",
            "\n",
            " Root Matrix (r)\n",
            "   [0, 1, 1, 2]\n",
            "   [0, 1, 2, 2]\n",
            "   [0, 0, 2, 2]\n",
            "   [0, 0, 0, 3]\n",
            "\n",
            " Minimum expected cost of the Optimal BST: 2.90\n"
          ]
        }
      ]
    }
  ]
}